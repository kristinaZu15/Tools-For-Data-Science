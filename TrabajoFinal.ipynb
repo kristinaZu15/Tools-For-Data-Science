{
 "cells": [
  {
   "cell_type": "markdown",
   "id": "24272033-b29a-4fd2-8d99-d345f515a343",
   "metadata": {},
   "source": [
    "# Trabajo Final"
   ]
  },
  {
   "cell_type": "markdown",
   "id": "2efe9f05-9626-4146-b5fe-3e4b8865bc0d",
   "metadata": {},
   "source": [
    "#### Jupyter Notebooks is a powerful tool for developing and presenting data science, analytics, and machine learning projects. It allows you to combine executable code, visualizations, and text into a single interactive document. With its user-friendly interface, you can write and run code in real time, document your processes, and share your results effectively. Ideal for exploratory analysis, model testing, and reporting, Jupyter Notebooks facilitate collaboration and reproducibility on your data projects."
   ]
  },
  {
   "cell_type": "markdown",
   "id": "67262f3b-7bc3-4052-ac30-ead76bfac260",
   "metadata": {},
   "source": [
    "### The programming languages used in Data Science are:\n",
    "1. Python\n",
    "2. R\n",
    "3. SQL\n",
    "4. Julia\n",
    "5. SAS\n",
    "6. MATLAB"
   ]
  },
  {
   "cell_type": "markdown",
   "id": "70811da4-69ac-4502-98a5-e248d4faac5e",
   "metadata": {},
   "source": [
    "### The libraries used in Data Science are:\n",
    "1. Pandas\n",
    "2. NumPy\n",
    "3. SciPy\n",
    "4. Scikit-learn\n",
    "5. Matplotlib\n",
    "6. Seaborn\n",
    "7. TensorFlow\n",
    "8. Keras\n",
    "9. PyTorch\n",
    "10. ggplot2\n",
    "11. dplyr\n",
    "12. tidyr\n",
    "13. readr\n",
    "14. caret\n",
    "15. randomForest\n",
    "16. xgboost"
   ]
  },
  {
   "cell_type": "markdown",
   "id": "546e04ab-1479-4a6d-8bc4-98aba3007a47",
   "metadata": {},
   "source": [
    "## Tools for Data Science\n",
    "| Data science task category | tools that support data science |\n",
    "|----------------------------|---------------------------------|\n",
    "| Data Managment | Execution Environment |\n",
    "| Data Integration and Transformation | Data Asset Managment |\n",
    "| Data Visualization | Code Asset Managment |\n",
    "| Model Building | Development Environment |\n",
    "| Model Deployment |\n",
    "| Model Monitoring and Assesment |"
   ]
  },
  {
   "cell_type": "markdown",
   "id": "b8e4835c-dc07-4a04-a3bb-d7110942e01f",
   "metadata": {},
   "source": [
    "# Suma:\n",
    "### 2 + 5 = 7\n",
    "\n",
    "# Resta:\n",
    "### 10 - 2 = 8\n",
    "\n",
    "# Multiplicación:\n",
    "### 2 * 5 = 10\n",
    "\n",
    "# División:\n",
    "### 9 / 3 = 3"
   ]
  },
  {
   "cell_type": "code",
   "execution_count": 2,
   "id": "010c735f-9749-498c-ba08-11251a04af73",
   "metadata": {
    "tags": []
   },
   "outputs": [
    {
     "data": {
      "text/plain": [
       "12"
      ]
     },
     "execution_count": 2,
     "metadata": {},
     "output_type": "execute_result"
    }
   ],
   "source": [
    "3*4"
   ]
  },
  {
   "cell_type": "code",
   "execution_count": 3,
   "id": "bc75c65a-0d54-4aa9-a8c8-d773cae73e53",
   "metadata": {
    "tags": []
   },
   "outputs": [
    {
     "data": {
      "text/plain": [
       "7"
      ]
     },
     "execution_count": 3,
     "metadata": {},
     "output_type": "execute_result"
    }
   ],
   "source": [
    "3+4"
   ]
  },
  {
   "cell_type": "code",
   "execution_count": 5,
   "id": "0f76c224-a8ea-41e1-9c74-a724fa832f9d",
   "metadata": {
    "tags": []
   },
   "outputs": [
    {
     "data": {
      "text/plain": [
       "3.3333333333333335"
      ]
     },
     "execution_count": 5,
     "metadata": {},
     "output_type": "execute_result"
    }
   ],
   "source": [
    "#This will convert 200 minutes to hours by diving by 60\n",
    "200/60"
   ]
  },
  {
   "cell_type": "code",
   "execution_count": 16,
   "id": "738e89bd-8b73-46c8-98ee-e6e285db8ce6",
   "metadata": {
    "tags": []
   },
   "outputs": [
    {
     "name": "stdout",
     "output_type": "stream",
     "text": [
      "Objectives for Data Science\n",
      " \n",
      "- Knowledge Discovery\n",
      "- Prediction\n",
      "- Optimization\n",
      "- Exploratory Analysis\n",
      "- Visualization\n",
      "- Automation\n",
      "- Decision Making\n"
     ]
    }
   ],
   "source": [
    "# List of data science objectives\n",
    "print(\"Objectives for Data Science\")\n",
    "print(\" \")\n",
    "objectives = [\n",
    "    \"- Knowledge Discovery\",\n",
    "    \"- Prediction\",\n",
    "    \"- Optimization\",\n",
    "    \"- Exploratory Analysis\",\n",
    "    \"- Visualization\",\n",
    "    \"- Automation\",\n",
    "    \"- Decision Making\"\n",
    "]\n",
    "\n",
    "# Print the list of objectives\n",
    "for objective in objectives:\n",
    "    print(objective)"
   ]
  },
  {
   "cell_type": "markdown",
   "id": "49611ab3-fa23-4d4f-84ea-6434f78f76f3",
   "metadata": {},
   "source": [
    "### Name of Author:\n",
    "# Kiara Cristina Zuñiga Cabrera"
   ]
  },
  {
   "cell_type": "code",
   "execution_count": null,
   "id": "d48a7f7c-bc8c-4db3-86fe-f6c04f2e7662",
   "metadata": {},
   "outputs": [],
   "source": []
  }
 ],
 "metadata": {
  "kernelspec": {
   "display_name": "Python",
   "language": "python",
   "name": "conda-env-python-py"
  },
  "language_info": {
   "codemirror_mode": {
    "name": "ipython",
    "version": 3
   },
   "file_extension": ".py",
   "mimetype": "text/x-python",
   "name": "python",
   "nbconvert_exporter": "python",
   "pygments_lexer": "ipython3",
   "version": "3.7.12"
  }
 },
 "nbformat": 4,
 "nbformat_minor": 5
}
